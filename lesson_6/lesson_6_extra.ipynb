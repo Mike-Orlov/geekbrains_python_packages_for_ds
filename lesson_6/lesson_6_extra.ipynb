version https://git-lfs.github.com/spec/v1
oid sha256:bf4db16545244858d7e46ef2ce09e5f7b8b8f5c37c24081c468e028f29e9d731
size 48063
