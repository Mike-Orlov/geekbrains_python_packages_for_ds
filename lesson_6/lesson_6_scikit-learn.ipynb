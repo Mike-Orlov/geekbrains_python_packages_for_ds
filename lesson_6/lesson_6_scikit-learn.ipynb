version https://git-lfs.github.com/spec/v1
oid sha256:93fcc4541cf304a92415d61fcec70040d24f75d7ebdf1217b16e7e2c53b3c938
size 63616
