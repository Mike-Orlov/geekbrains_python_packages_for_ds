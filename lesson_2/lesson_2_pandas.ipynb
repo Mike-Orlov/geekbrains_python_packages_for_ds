version https://git-lfs.github.com/spec/v1
oid sha256:3a1155cd75e5f9aa445dc3184a753f0f07f736904b98e79a0879e26619e4bdae
size 30363
