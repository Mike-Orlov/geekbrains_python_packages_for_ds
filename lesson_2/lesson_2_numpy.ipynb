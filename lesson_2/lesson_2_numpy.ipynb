version https://git-lfs.github.com/spec/v1
oid sha256:ee1d723ae597243411c55c6c556011db53192e3b032ec07ecc7df03a383be5ed
size 7826
